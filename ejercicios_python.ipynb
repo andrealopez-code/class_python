{
  "nbformat": 4,
  "nbformat_minor": 0,
  "metadata": {
    "colab": {
      "name": "ejercicios-python.ipynb",
      "provenance": [],
      "authorship_tag": "ABX9TyPk6spWK2rQkUt/tqo6sxIT",
      "include_colab_link": true
    },
    "kernelspec": {
      "name": "python3",
      "display_name": "Python 3"
    },
    "language_info": {
      "name": "python"
    }
  },
  "cells": [
    {
      "cell_type": "markdown",
      "metadata": {
        "id": "view-in-github",
        "colab_type": "text"
      },
      "source": [
        "<a href=\"https://colab.research.google.com/github/andrealopez-code/class_python/blob/main/ejercicios_python.ipynb\" target=\"_parent\"><img src=\"https://colab.research.google.com/assets/colab-badge.svg\" alt=\"Open In Colab\"/></a>"
      ]
    },
    {
      "cell_type": "markdown",
      "source": [
        "### Ejercicio 1\n",
        "Escribir un programa que pregunte al usuario su edad y muestre por pantalla si es mayor de edad o no."
      ],
      "metadata": {
        "id": "J_n-PI7YQcSD"
      }
    },
    {
      "cell_type": "code",
      "execution_count": null,
      "metadata": {
        "id": "Wv6oN3rnQSyh"
      },
      "outputs": [],
      "source": [
        "age = int(input('Hola, ¿cuál es tú edad?:) '))\n",
        "if age >=18:\n",
        "  print('Según tu edad, eres mayor de edad.')\n",
        "else:\n",
        "  print('Según tu edad, eres menor de edad.') \n"
      ]
    },
    {
      "cell_type": "markdown",
      "source": [
        "###Ejercicio 2\n",
        "Escribir un programa que pregunte al usuario su edad y muestre por pantalla todos los años que ha cumplido (desde 1 hasta su edad)."
      ],
      "metadata": {
        "id": "O25IBHTlT4T2"
      }
    },
    {
      "cell_type": "code",
      "source": [
        "age = int(input('Hola, ¿cuál es tú edad?:) '))\n",
        "a = 0\n",
        "while(age):\n",
        "  a= a + 1\n",
        "  print(a)\n",
        "  if a == age:\n",
        "   break  "
      ],
      "metadata": {
        "colab": {
          "base_uri": "https://localhost:8080/"
        },
        "id": "C7gE-cAuUAV5",
        "outputId": "4f1614b1-82fb-4672-d638-e0f905b847a9"
      },
      "execution_count": 12,
      "outputs": [
        {
          "output_type": "stream",
          "name": "stdout",
          "text": [
            "Hola, ¿cuál es tú edad?:) 18\n",
            "1\n",
            "2\n",
            "3\n",
            "4\n",
            "5\n",
            "6\n",
            "7\n",
            "8\n",
            "9\n",
            "10\n",
            "11\n",
            "12\n",
            "13\n",
            "14\n",
            "15\n",
            "16\n",
            "17\n",
            "18\n"
          ]
        }
      ]
    }
  ]
}