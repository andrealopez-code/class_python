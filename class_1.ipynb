{
  "nbformat": 4,
  "nbformat_minor": 0,
  "metadata": {
    "colab": {
      "name": "class_1.ipynb",
      "provenance": [],
      "toc_visible": true,
      "authorship_tag": "ABX9TyNF8CJYPl0k6EbmIi0QNjzV",
      "include_colab_link": true
    },
    "kernelspec": {
      "name": "python3",
      "display_name": "Python 3"
    },
    "language_info": {
      "name": "python"
    }
  },
  "cells": [
    {
      "cell_type": "markdown",
      "metadata": {
        "id": "view-in-github",
        "colab_type": "text"
      },
      "source": [
        "<a href=\"https://colab.research.google.com/github/andrealopez-code/class_python/blob/main/class_1.ipynb\" target=\"_parent\"><img src=\"https://colab.research.google.com/assets/colab-badge.svg\" alt=\"Open In Colab\"/></a>"
      ]
    },
    {
      "cell_type": "markdown",
      "source": [
        "# Programación en Python"
      ],
      "metadata": {
        "id": "2R8OkxhG2HBr"
      }
    },
    {
      "cell_type": "markdown",
      "source": [
        "## Variables y Operaciones"
      ],
      "metadata": {
        "id": "-djWkIe34cGf"
      }
    },
    {
      "cell_type": "code",
      "execution_count": null,
      "metadata": {
        "colab": {
          "base_uri": "https://localhost:8080/"
        },
        "id": "wcrdx_tb0dJa",
        "outputId": "da3ee7ca-04c9-4891-fd96-739b0cb258a3"
      },
      "outputs": [
        {
          "output_type": "stream",
          "name": "stdout",
          "text": [
            "1\n"
          ]
        }
      ],
      "source": [
        "#Variables numericas\n",
        "\"\"\"(con 6 comillas dobles\n",
        "podemos hacer comentarios de varias líneas)\"\"\"\n",
        "a = 1\n",
        "b = 4\n",
        "d = 4.5\n",
        "print(a)"
      ]
    },
    {
      "cell_type": "code",
      "source": [
        "#Variables de texto\n",
        "c = \"Andrea\"\n",
        "print(c)"
      ],
      "metadata": {
        "colab": {
          "base_uri": "https://localhost:8080/"
        },
        "id": "b9EysHIA6pxD",
        "outputId": "9549a7e2-6f64-44c0-a09d-db6ee34a72fb"
      },
      "execution_count": null,
      "outputs": [
        {
          "output_type": "stream",
          "name": "stdout",
          "text": [
            "Andrea\n"
          ]
        }
      ]
    },
    {
      "cell_type": "code",
      "source": [
        "#Variables Boolean\n",
        "t = True\n",
        "f = False\n",
        "print(t)"
      ],
      "metadata": {
        "colab": {
          "base_uri": "https://localhost:8080/"
        },
        "id": "jOPRSNTw7z6i",
        "outputId": "ca9fbe60-d02f-44f2-9033-187ec1ff1029"
      },
      "execution_count": null,
      "outputs": [
        {
          "output_type": "stream",
          "name": "stdout",
          "text": [
            "True\n"
          ]
        }
      ]
    },
    {
      "cell_type": "code",
      "source": [
        "#Operaciones\n",
        "suma = a + b\n",
        "print(suma)\n",
        "multiplicacion = b * suma\n",
        "division = suma / multiplicacion\n",
        "resta = suma - d\n",
        "print(suma, multiplicacion, division, resta)"
      ],
      "metadata": {
        "colab": {
          "base_uri": "https://localhost:8080/"
        },
        "id": "3cZxHKKQ87my",
        "outputId": "f641fc1b-fe40-4815-ba7b-ccfca92e7286"
      },
      "execution_count": null,
      "outputs": [
        {
          "output_type": "stream",
          "name": "stdout",
          "text": [
            "5\n",
            "5 20 0.25 0.5\n"
          ]
        }
      ]
    },
    {
      "cell_type": "code",
      "source": [
        "#Concatenar texto\n",
        "first_name = \"Andrea\"\n",
        "last_name = \"Lopez\"\n",
        "full_name = first_name + \" \" + last_name\n",
        "print(full_name)"
      ],
      "metadata": {
        "colab": {
          "base_uri": "https://localhost:8080/"
        },
        "id": "B__mnQ_m-ec2",
        "outputId": "22bdea35-cf34-4d8e-d4e1-dc402da5262b"
      },
      "execution_count": null,
      "outputs": [
        {
          "output_type": "stream",
          "name": "stdout",
          "text": [
            "Andrea Lopez\n"
          ]
        }
      ]
    },
    {
      "cell_type": "code",
      "source": [
        "#Concantenar número y texto\n",
        "print(\"la suma es \" + str(suma) + \" la multiplicación es \" + str(multiplicacion) + \" la división es \" + str(division) + \" la resta es \" + str(resta))"
      ],
      "metadata": {
        "colab": {
          "base_uri": "https://localhost:8080/"
        },
        "id": "aBu_mnJz_Uk4",
        "outputId": "fa7340bb-0f76-4704-96b3-9ab1ac80e4bb"
      },
      "execution_count": null,
      "outputs": [
        {
          "output_type": "stream",
          "name": "stdout",
          "text": [
            "la suma es 5 la multiplicación es 20 la división es 0.25 la resta es 0.5\n"
          ]
        }
      ]
    },
    {
      "cell_type": "code",
      "source": [
        "x = 8 \n",
        "y = \"7\"\n",
        "w = \"4.6\"\n",
        "z = x + int(y)\n",
        "numero = x + float(w) \n",
        "print(numero)"
      ],
      "metadata": {
        "colab": {
          "base_uri": "https://localhost:8080/"
        },
        "id": "WvGwWvi5AsWz",
        "outputId": "dcf123e6-cc4c-4e35-9282-951a18e9d3f5"
      },
      "execution_count": 1,
      "outputs": [
        {
          "output_type": "stream",
          "name": "stdout",
          "text": [
            "12.6\n"
          ]
        }
      ]
    },
    {
      "cell_type": "markdown",
      "source": [
        "## Condicionales"
      ],
      "metadata": {
        "id": "EJjJuJr_9UFG"
      }
    },
    {
      "cell_type": "code",
      "source": [
        "# <, =<, >, =>, ==, !=, and, or\n",
        "#if\n",
        "if True:\n",
        " print('sucedio')"
      ],
      "metadata": {
        "colab": {
          "base_uri": "https://localhost:8080/"
        },
        "id": "tXAkYZrl9Xi1",
        "outputId": "1c19d6fc-bed3-408d-8b20-86669e0b981a"
      },
      "execution_count": 4,
      "outputs": [
        {
          "output_type": "stream",
          "name": "stdout",
          "text": [
            "sucedio\n"
          ]
        }
      ]
    },
    {
      "cell_type": "code",
      "source": [
        "if False:\n",
        "  print('sucedio')\n",
        "else:\n",
        "  print('no sucedio')"
      ],
      "metadata": {
        "colab": {
          "base_uri": "https://localhost:8080/"
        },
        "id": "jPRYFpG8-fXe",
        "outputId": "44d456a1-8a3e-48cd-fb57-5b26727ef910"
      },
      "execution_count": 6,
      "outputs": [
        {
          "output_type": "stream",
          "name": "stdout",
          "text": [
            "no sucedio\n"
          ]
        }
      ]
    },
    {
      "cell_type": "code",
      "source": [
        "#menor <\n",
        "menor= 10\n",
        "mayor= 8\n",
        "if menor < mayor:\n",
        "  numero = menor + mayor\n",
        "else:\n",
        "  numero = mayor - menor\n",
        "\n",
        "print(numero)"
      ],
      "metadata": {
        "colab": {
          "base_uri": "https://localhost:8080/"
        },
        "id": "fjEPJvrN_Tcb",
        "outputId": "86c11f7b-3e4b-4e82-ebd8-5417481a7150"
      },
      "execution_count": 10,
      "outputs": [
        {
          "output_type": "stream",
          "name": "stdout",
          "text": [
            "-2\n"
          ]
        }
      ]
    },
    {
      "cell_type": "code",
      "source": [
        "#menor o igual\n",
        "a = 10\n",
        "if a<10:\n",
        "  print('a es menor que 10')\n",
        "elif a>10:\n",
        "  print('a es mayor que 10')\n",
        "  "
      ],
      "metadata": {
        "id": "7dr9itirBEB3"
      },
      "execution_count": null,
      "outputs": []
    },
    {
      "cell_type": "code",
      "source": [
        "import random\n",
        "  r1 = random.randint(0,15)\n",
        "  if r1 <5:\n",
        "    print('el numero % s es menor que 5' % (r1))\n",
        "  elif r1 >5:\n",
        "    print('el numero % s es mayor que 5' % (r1))\n",
        "  elif r1 ==5:\n",
        "    print('el numero % s es 5' % (r1))\n"
      ],
      "metadata": {
        "colab": {
          "base_uri": "https://localhost:8080/"
        },
        "id": "uxFwWV1FC5e6",
        "outputId": "6b761b70-0261-4179-d2ae-09177e794910"
      },
      "execution_count": 53,
      "outputs": [
        {
          "output_type": "stream",
          "name": "stdout",
          "text": [
            "el numero 5 es 5\n"
          ]
        }
      ]
    },
    {
      "cell_type": "markdown",
      "source": [
        "###while\n",
        "while es una estructura ciclica, que mientras se cumpla una condición ejecutará un bloque de código tantas veces como la condición deje de cumplirse o se rompa el cicol con la orden **break**."
      ],
      "metadata": {
        "id": "xC2PvB09JZ7Z"
      }
    },
    {
      "cell_type": "code",
      "source": [
        "i = 0\n",
        "while(True):\n",
        "  i+=1  \n",
        "  r1 = random.randint(0,15)\n",
        "  print(r1)\n",
        "  if r1 ==5:\n",
        "    print('el numero % s es 5' % (r1))\n",
        "    print(str(i) + ' intentos')\n",
        "    break"
      ],
      "metadata": {
        "colab": {
          "base_uri": "https://localhost:8080/"
        },
        "id": "zW2e5xMwG_0M",
        "outputId": "64c7edd3-8c94-4fc1-b148-e71b3d3d5568"
      },
      "execution_count": 69,
      "outputs": [
        {
          "output_type": "stream",
          "name": "stdout",
          "text": [
            "5\n",
            "el numero 5 es 5\n",
            "1 intentos\n"
          ]
        }
      ]
    }
  ]
}