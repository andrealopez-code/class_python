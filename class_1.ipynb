{
  "nbformat": 4,
  "nbformat_minor": 0,
  "metadata": {
    "colab": {
      "name": "class_1.ipynb",
      "provenance": [],
      "toc_visible": true,
      "authorship_tag": "ABX9TyMUdlW3/dUt3jYtyt7W7g5u",
      "include_colab_link": true
    },
    "kernelspec": {
      "name": "python3",
      "display_name": "Python 3"
    },
    "language_info": {
      "name": "python"
    }
  },
  "cells": [
    {
      "cell_type": "markdown",
      "metadata": {
        "id": "view-in-github",
        "colab_type": "text"
      },
      "source": [
        "<a href=\"https://colab.research.google.com/github/andrealopez-code/class_python/blob/main/class_1.ipynb\" target=\"_parent\"><img src=\"https://colab.research.google.com/assets/colab-badge.svg\" alt=\"Open In Colab\"/></a>"
      ]
    },
    {
      "cell_type": "markdown",
      "source": [
        "# Programación en Python"
      ],
      "metadata": {
        "id": "2R8OkxhG2HBr"
      }
    },
    {
      "cell_type": "markdown",
      "source": [
        "## Variables y Operaciones"
      ],
      "metadata": {
        "id": "-djWkIe34cGf"
      }
    },
    {
      "cell_type": "code",
      "execution_count": 8,
      "metadata": {
        "colab": {
          "base_uri": "https://localhost:8080/"
        },
        "id": "wcrdx_tb0dJa",
        "outputId": "da3ee7ca-04c9-4891-fd96-739b0cb258a3"
      },
      "outputs": [
        {
          "output_type": "stream",
          "name": "stdout",
          "text": [
            "1\n"
          ]
        }
      ],
      "source": [
        "#Variables numericas\n",
        "\"\"\"(con 6 comillas dobles\n",
        "podemos hacer comentarios de varias líneas)\"\"\"\n",
        "a = 1\n",
        "b = 4\n",
        "d = 4.5\n",
        "print(a)"
      ]
    },
    {
      "cell_type": "code",
      "source": [
        "#Variables de texto\n",
        "c = \"Andrea\"\n",
        "print(c)"
      ],
      "metadata": {
        "colab": {
          "base_uri": "https://localhost:8080/"
        },
        "id": "b9EysHIA6pxD",
        "outputId": "9549a7e2-6f64-44c0-a09d-db6ee34a72fb"
      },
      "execution_count": 2,
      "outputs": [
        {
          "output_type": "stream",
          "name": "stdout",
          "text": [
            "Andrea\n"
          ]
        }
      ]
    },
    {
      "cell_type": "code",
      "source": [
        "#Variables Boolean\n",
        "t = True\n",
        "f = False\n",
        "print(t)"
      ],
      "metadata": {
        "colab": {
          "base_uri": "https://localhost:8080/"
        },
        "id": "jOPRSNTw7z6i",
        "outputId": "ca9fbe60-d02f-44f2-9033-187ec1ff1029"
      },
      "execution_count": 4,
      "outputs": [
        {
          "output_type": "stream",
          "name": "stdout",
          "text": [
            "True\n"
          ]
        }
      ]
    },
    {
      "cell_type": "code",
      "source": [
        "#Operaciones\n",
        "suma = a + b\n",
        "print(suma)\n",
        "multiplicacion = b * suma\n",
        "division = suma / multiplicacion\n",
        "resta = suma - d\n",
        "print(suma, multiplicacion, division, resta)"
      ],
      "metadata": {
        "colab": {
          "base_uri": "https://localhost:8080/"
        },
        "id": "3cZxHKKQ87my",
        "outputId": "f641fc1b-fe40-4815-ba7b-ccfca92e7286"
      },
      "execution_count": 11,
      "outputs": [
        {
          "output_type": "stream",
          "name": "stdout",
          "text": [
            "5\n",
            "5 20 0.25 0.5\n"
          ]
        }
      ]
    },
    {
      "cell_type": "code",
      "source": [
        "#Concatenar texto\n",
        "first_name = \"Andrea\"\n",
        "last_name = \"Lopez\"\n",
        "full_name = first_name + \" \" + last_name\n",
        "print(full_name)"
      ],
      "metadata": {
        "colab": {
          "base_uri": "https://localhost:8080/"
        },
        "id": "B__mnQ_m-ec2",
        "outputId": "22bdea35-cf34-4d8e-d4e1-dc402da5262b"
      },
      "execution_count": 15,
      "outputs": [
        {
          "output_type": "stream",
          "name": "stdout",
          "text": [
            "Andrea Lopez\n"
          ]
        }
      ]
    },
    {
      "cell_type": "code",
      "source": [
        "#Concantenar número y texto\n",
        "print(\"la suma es \" + str(suma) + \" la multiplicación es \" + str(multiplicacion) + \" la división es \" + str(division) + \" la resta es \" + str(resta))"
      ],
      "metadata": {
        "colab": {
          "base_uri": "https://localhost:8080/"
        },
        "id": "aBu_mnJz_Uk4",
        "outputId": "fa7340bb-0f76-4704-96b3-9ab1ac80e4bb"
      },
      "execution_count": 19,
      "outputs": [
        {
          "output_type": "stream",
          "name": "stdout",
          "text": [
            "la suma es 5 la multiplicación es 20 la división es 0.25 la resta es 0.5\n"
          ]
        }
      ]
    },
    {
      "cell_type": "code",
      "source": [
        "x = 8 \n",
        "y = \"7\"\n",
        "w = \"4.6\"\n",
        "z = x + int(y)\n",
        "numero = x + float(w) \n",
        "print(numero)"
      ],
      "metadata": {
        "colab": {
          "base_uri": "https://localhost:8080/"
        },
        "id": "WvGwWvi5AsWz",
        "outputId": "506fa37e-147c-4e56-e134-ac92db72f14d"
      },
      "execution_count": 24,
      "outputs": [
        {
          "output_type": "stream",
          "name": "stdout",
          "text": [
            "12.6\n"
          ]
        }
      ]
    }
  ]
}