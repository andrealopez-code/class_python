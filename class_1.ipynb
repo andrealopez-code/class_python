{
  "nbformat": 4,
  "nbformat_minor": 0,
  "metadata": {
    "colab": {
      "name": "class_1.ipynb",
      "provenance": [],
      "toc_visible": true,
      "authorship_tag": "ABX9TyOhnJ7XZoTW2Gap7M/7nObr",
      "include_colab_link": true
    },
    "kernelspec": {
      "name": "python3",
      "display_name": "Python 3"
    },
    "language_info": {
      "name": "python"
    }
  },
  "cells": [
    {
      "cell_type": "markdown",
      "metadata": {
        "id": "view-in-github",
        "colab_type": "text"
      },
      "source": [
        "<a href=\"https://colab.research.google.com/github/andrealopez-code/class_python/blob/main/class_1.ipynb\" target=\"_parent\"><img src=\"https://colab.research.google.com/assets/colab-badge.svg\" alt=\"Open In Colab\"/></a>"
      ]
    },
    {
      "cell_type": "markdown",
      "source": [
        "# Programación en Python"
      ],
      "metadata": {
        "id": "2R8OkxhG2HBr"
      }
    },
    {
      "cell_type": "markdown",
      "source": [
        "## Variables y Operaciones"
      ],
      "metadata": {
        "id": "-djWkIe34cGf"
      }
    },
    {
      "cell_type": "code",
      "execution_count": null,
      "metadata": {
        "colab": {
          "base_uri": "https://localhost:8080/"
        },
        "id": "wcrdx_tb0dJa",
        "outputId": "da3ee7ca-04c9-4891-fd96-739b0cb258a3"
      },
      "outputs": [
        {
          "output_type": "stream",
          "name": "stdout",
          "text": [
            "1\n"
          ]
        }
      ],
      "source": [
        "#Variables numericas\n",
        "\"\"\"(con 6 comillas dobles\n",
        "podemos hacer comentarios de varias líneas)\"\"\"\n",
        "a = 1\n",
        "b = 4\n",
        "d = 4.5\n",
        "print(a)"
      ]
    },
    {
      "cell_type": "code",
      "source": [
        "#Variables de texto\n",
        "c = \"Andrea\"\n",
        "print(c)"
      ],
      "metadata": {
        "colab": {
          "base_uri": "https://localhost:8080/"
        },
        "id": "b9EysHIA6pxD",
        "outputId": "9549a7e2-6f64-44c0-a09d-db6ee34a72fb"
      },
      "execution_count": null,
      "outputs": [
        {
          "output_type": "stream",
          "name": "stdout",
          "text": [
            "Andrea\n"
          ]
        }
      ]
    },
    {
      "cell_type": "code",
      "source": [
        "#Variables Boolean\n",
        "t = True\n",
        "f = False\n",
        "print(t)"
      ],
      "metadata": {
        "colab": {
          "base_uri": "https://localhost:8080/"
        },
        "id": "jOPRSNTw7z6i",
        "outputId": "ca9fbe60-d02f-44f2-9033-187ec1ff1029"
      },
      "execution_count": null,
      "outputs": [
        {
          "output_type": "stream",
          "name": "stdout",
          "text": [
            "True\n"
          ]
        }
      ]
    },
    {
      "cell_type": "code",
      "source": [
        "#Operaciones\n",
        "suma = a + b\n",
        "print(suma)\n",
        "multiplicacion = b * suma\n",
        "division = suma / multiplicacion\n",
        "resta = suma - d\n",
        "print(suma, multiplicacion, division, resta)"
      ],
      "metadata": {
        "colab": {
          "base_uri": "https://localhost:8080/"
        },
        "id": "3cZxHKKQ87my",
        "outputId": "f641fc1b-fe40-4815-ba7b-ccfca92e7286"
      },
      "execution_count": null,
      "outputs": [
        {
          "output_type": "stream",
          "name": "stdout",
          "text": [
            "5\n",
            "5 20 0.25 0.5\n"
          ]
        }
      ]
    },
    {
      "cell_type": "code",
      "source": [
        "#Concatenar texto\n",
        "first_name = \"Andrea\"\n",
        "last_name = \"Lopez\"\n",
        "full_name = first_name + \" \" + last_name\n",
        "print(full_name)"
      ],
      "metadata": {
        "colab": {
          "base_uri": "https://localhost:8080/"
        },
        "id": "B__mnQ_m-ec2",
        "outputId": "22bdea35-cf34-4d8e-d4e1-dc402da5262b"
      },
      "execution_count": null,
      "outputs": [
        {
          "output_type": "stream",
          "name": "stdout",
          "text": [
            "Andrea Lopez\n"
          ]
        }
      ]
    },
    {
      "cell_type": "code",
      "source": [
        "#Concantenar número y texto\n",
        "print(\"la suma es \" + str(suma) + \" la multiplicación es \" + str(multiplicacion) + \" la división es \" + str(division) + \" la resta es \" + str(resta))"
      ],
      "metadata": {
        "colab": {
          "base_uri": "https://localhost:8080/"
        },
        "id": "aBu_mnJz_Uk4",
        "outputId": "fa7340bb-0f76-4704-96b3-9ab1ac80e4bb"
      },
      "execution_count": null,
      "outputs": [
        {
          "output_type": "stream",
          "name": "stdout",
          "text": [
            "la suma es 5 la multiplicación es 20 la división es 0.25 la resta es 0.5\n"
          ]
        }
      ]
    },
    {
      "cell_type": "code",
      "source": [
        "x = 8 \n",
        "y = \"7\"\n",
        "w = \"4.6\"\n",
        "z = x + int(y)\n",
        "numero = x + float(w) \n",
        "print(numero)"
      ],
      "metadata": {
        "colab": {
          "base_uri": "https://localhost:8080/"
        },
        "id": "WvGwWvi5AsWz",
        "outputId": "dcf123e6-cc4c-4e35-9282-951a18e9d3f5"
      },
      "execution_count": null,
      "outputs": [
        {
          "output_type": "stream",
          "name": "stdout",
          "text": [
            "12.6\n"
          ]
        }
      ]
    },
    {
      "cell_type": "markdown",
      "source": [
        "## Condicionales"
      ],
      "metadata": {
        "id": "EJjJuJr_9UFG"
      }
    },
    {
      "cell_type": "code",
      "source": [
        "# <, =<, >, =>, ==, !=, and, or\n",
        "#if\n",
        "if True:\n",
        " print('sucedio')"
      ],
      "metadata": {
        "colab": {
          "base_uri": "https://localhost:8080/"
        },
        "id": "tXAkYZrl9Xi1",
        "outputId": "1c19d6fc-bed3-408d-8b20-86669e0b981a"
      },
      "execution_count": null,
      "outputs": [
        {
          "output_type": "stream",
          "name": "stdout",
          "text": [
            "sucedio\n"
          ]
        }
      ]
    },
    {
      "cell_type": "code",
      "source": [
        "if False:\n",
        "  print('sucedio')\n",
        "else:\n",
        "  print('no sucedio')"
      ],
      "metadata": {
        "colab": {
          "base_uri": "https://localhost:8080/"
        },
        "id": "jPRYFpG8-fXe",
        "outputId": "44d456a1-8a3e-48cd-fb57-5b26727ef910"
      },
      "execution_count": null,
      "outputs": [
        {
          "output_type": "stream",
          "name": "stdout",
          "text": [
            "no sucedio\n"
          ]
        }
      ]
    },
    {
      "cell_type": "code",
      "source": [
        "#menor <\n",
        "menor= 10\n",
        "mayor= 8\n",
        "if menor < mayor:\n",
        "  numero = menor + mayor\n",
        "else:\n",
        "  numero = mayor - menor\n",
        "\n",
        "print(numero)"
      ],
      "metadata": {
        "colab": {
          "base_uri": "https://localhost:8080/"
        },
        "id": "fjEPJvrN_Tcb",
        "outputId": "86c11f7b-3e4b-4e82-ebd8-5417481a7150"
      },
      "execution_count": null,
      "outputs": [
        {
          "output_type": "stream",
          "name": "stdout",
          "text": [
            "-2\n"
          ]
        }
      ]
    },
    {
      "cell_type": "code",
      "source": [
        "#menor o igual\n",
        "a = 10\n",
        "if a<10:\n",
        "  print('a es menor que 10')\n",
        "elif a>10:\n",
        "  print('a es mayor que 10')\n",
        "  "
      ],
      "metadata": {
        "id": "7dr9itirBEB3"
      },
      "execution_count": null,
      "outputs": []
    },
    {
      "cell_type": "code",
      "source": [
        "import random\n",
        "r1 = random.randint(0,15)\n",
        "if r1 <5:\n",
        "  print('el numero % s es menor que 5' % (r1))\n",
        "elif r1 >5:\n",
        "  print('el numero % s es mayor que 5' % (r1))\n",
        "elif r1 ==5:\n",
        "  print('el numero % s es 5' % (r1))\n"
      ],
      "metadata": {
        "colab": {
          "base_uri": "https://localhost:8080/"
        },
        "id": "uxFwWV1FC5e6",
        "outputId": "9ac1b634-c133-4b1a-e9f6-4edae6b3b64e"
      },
      "execution_count": null,
      "outputs": [
        {
          "output_type": "stream",
          "name": "stdout",
          "text": [
            "el numero 9 es mayor que 5\n"
          ]
        }
      ]
    },
    {
      "cell_type": "code",
      "source": [
        "#and se usa cuando se deben cumplir 1 o mas condiciones, en otros lenguajes se usa &&\n",
        "r1 = random.randint(0,100)\n",
        "if r1 > 20 and r1 < 50:\n",
        "  print(r1)\n",
        "  print('cumpliste la condición muchacho')\n",
        "else:\n",
        "  print(r1)\n",
        "  print('F en el chat')"
      ],
      "metadata": {
        "colab": {
          "base_uri": "https://localhost:8080/"
        },
        "id": "gAWj8wBtG_rf",
        "outputId": "bce04a62-3da7-4ee1-ee5c-c50bfc41ad54"
      },
      "execution_count": null,
      "outputs": [
        {
          "output_type": "stream",
          "name": "stdout",
          "text": [
            "47\n",
            "cumpliste la condición muchacho\n"
          ]
        }
      ]
    },
    {
      "cell_type": "code",
      "source": [
        "#or  se usa cuando se debe ejecutar un código después de cumplirse 1 o más condiciones, en otros lenguajes se usa ||\n",
        "r1 = random.randint(0,100)\n",
        "if r1 < 20 or r1 > 50:\n",
        "  print('tu numero fue ' + str(r1))\n",
        "  print('buena esa compadre, que bonitos ojos tienes')\n",
        "else:\n",
        "  print('tu número fue ' + str(r1))\n",
        "  print('Nein')\n"
      ],
      "metadata": {
        "colab": {
          "base_uri": "https://localhost:8080/"
        },
        "id": "A6lLt3xvIUPH",
        "outputId": "7b74d21d-26d3-4f61-a9cd-36c6f6494053"
      },
      "execution_count": null,
      "outputs": [
        {
          "output_type": "stream",
          "name": "stdout",
          "text": [
            "tu numero fue 17\n",
            "buena esa compadre, que bonitos ojos tienes\n"
          ]
        }
      ]
    },
    {
      "cell_type": "code",
      "source": [
        "# and y or juntos\n",
        "r1 = random.randint(0,100)\n",
        "print(r1)\n",
        "if (r1 >= 10 and r1 <= 20) or (r1 >= 60 and r1 <= 80):\n",
        "   print('mensaje genérico')\n",
        "else:\n",
        "    print('mensaje genérico de error')"
      ],
      "metadata": {
        "colab": {
          "base_uri": "https://localhost:8080/"
        },
        "id": "mV9TGBzeKkuc",
        "outputId": "5f4b9bbc-c946-4648-8d46-1a958901cbe5"
      },
      "execution_count": null,
      "outputs": [
        {
          "output_type": "stream",
          "name": "stdout",
          "text": [
            "64\n",
            "mensaje genérico\n"
          ]
        }
      ]
    },
    {
      "cell_type": "markdown",
      "source": [
        "##tablas de verdad\n",
        "![DuInMcdWkAccTeC.jpg](data:image/jpeg;base64,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)"
      ],
      "metadata": {
        "id": "4R8vg35OM_i0"
      }
    },
    {
      "cell_type": "markdown",
      "source": [
        "## Ciclos"
      ],
      "metadata": {
        "id": "zu7uBTyuOPkM"
      }
    },
    {
      "cell_type": "markdown",
      "source": [
        "###while\n",
        "while es una estructura ciclica, que mientras se cumpla una condición ejecutará un bloque de código tantas veces como la condición deje de cumplirse o se rompa el cicol con la orden **break**."
      ],
      "metadata": {
        "id": "xC2PvB09JZ7Z"
      }
    },
    {
      "cell_type": "code",
      "source": [
        "i = 0\n",
        "while(True):\n",
        "  i+=1  \n",
        "  r1 = random.randint(0,15)\n",
        "  print(r1)\n",
        "  if r1 ==5:\n",
        "    print('el numero % s es 5' % (r1))\n",
        "    print(str(i) + ' intentos')\n",
        "    break"
      ],
      "metadata": {
        "id": "zW2e5xMwG_0M"
      },
      "execution_count": null,
      "outputs": []
    },
    {
      "cell_type": "code",
      "source": [
        "i = 10\n",
        "while(i>0):\n",
        "  print('mensaje de while número #' + str(i))\n",
        "  i-=1\n"
      ],
      "metadata": {
        "id": "Rwjm4CKnOn6_"
      },
      "execution_count": null,
      "outputs": []
    },
    {
      "cell_type": "code",
      "source": [
        "import random\n",
        "v = True\n",
        "i = 0\n",
        "while (v):\n",
        "  i+= 1\n",
        "  r1  = random.randint(0,10)\n",
        "  if (r1 == 7):\n",
        "    print('intento ' + str(i) + ' ya tentemos el 7 de la suerte')\n",
        "    v = False\n",
        "  else:\n",
        "   print(' intento ' + str(i) + ' not yet fue un ' + str(r1))"
      ],
      "metadata": {
        "colab": {
          "base_uri": "https://localhost:8080/"
        },
        "id": "tyaboMmjRFQl",
        "outputId": "f3e7c004-595d-44ff-bd2d-40dd5ec0f665"
      },
      "execution_count": null,
      "outputs": [
        {
          "output_type": "stream",
          "name": "stdout",
          "text": [
            " intento 1 not yet fue un 2\n",
            "intento 2 ya tentemos el 7 de la suerte\n"
          ]
        }
      ]
    }
  ]
}